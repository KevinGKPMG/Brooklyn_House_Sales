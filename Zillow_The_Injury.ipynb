{
 "cells": [
  {
   "cell_type": "markdown",
   "metadata": {},
   "source": [
    "# Import Libraries"
   ]
  },
  {
   "cell_type": "code",
   "execution_count": null,
   "metadata": {
    "collapsed": true
   },
   "outputs": [],
   "source": [
    "import pandas as pd\n",
    "import urllib2\n",
    "from bs4 import BeautifulSoup\n",
    "import time\n",
    "import warnings\n",
    "warnings.filterwarnings(\"ignore\")\n",
    "from random import *"
   ]
  },
  {
   "cell_type": "markdown",
   "metadata": {},
   "source": [
    "# Read in and Filter Data "
   ]
  },
  {
   "cell_type": "code",
   "execution_count": null,
   "metadata": {
    "collapsed": true
   },
   "outputs": [],
   "source": [
    "train = pd.read_csv('Brooklyn_House_Train.csv')\n",
    "mask_one = (train['sale_price'] < 100000)\n",
    "train = train[mask_one]\n",
    "\n",
    "mask_two=(train['building_class_category']=='01 ONE FAMILY HOMES') | (train['building_class_category']=='02 TWO FAMILY HOMES') | (train['building_class_category']=='03 THREE FAMILY HOMES')\n",
    "train = train[mask_two]"
   ]
  },
  {
   "cell_type": "markdown",
   "metadata": {},
   "source": [
    "# Peak at data to make sure it looks good"
   ]
  },
  {
   "cell_type": "code",
   "execution_count": null,
   "metadata": {},
   "outputs": [],
   "source": [
    "train.head()"
   ]
  },
  {
   "cell_type": "code",
   "execution_count": null,
   "metadata": {},
   "outputs": [],
   "source": [
    "train.shape"
   ]
  },
  {
   "cell_type": "markdown",
   "metadata": {},
   "source": [
    "# Useful functions"
   ]
  },
  {
   "cell_type": "code",
   "execution_count": null,
   "metadata": {
    "collapsed": true
   },
   "outputs": [],
   "source": [
    "def find_between( s, first, last ):\n",
    "    try:\n",
    "        start = s.index( first ) + len( first )\n",
    "        end = s.index( last, start )\n",
    "        return s[start:end]\n",
    "    except ValueError:\n",
    "        return \"\"\n",
    "\n",
    "\n",
    "#Scrapes price from zillow for addresses with no apartment numbers\n",
    "def scraper_no_apt(address):\n",
    "    try:\n",
    "        address2 = str(address)\n",
    "        address2 = address2.replace(' ', '-').upper()\n",
    "        my_url = 'https://www.zillow.com/homes/'+address2+'-nyc_rb/'\n",
    "\n",
    "        opener = urllib2.build_opener()\n",
    "        opener.addheaders = [('User-Agent', 'Mozilla/5.0')]\n",
    "        response = opener.open(my_url)\n",
    "\n",
    "        soup = BeautifulSoup(response, 'html.parser')\n",
    "\n",
    "        temp = str(soup.find_all('div', {'class':'zestimate primary-quote'}))\n",
    "        price = str(find_between(temp, \"$\", \"</div>\" ))\n",
    "        price = price.replace(',', '')\n",
    "\n",
    "        return price;\n",
    "    except:\n",
    "        return(int(0));\n",
    "\n",
    "#Scrapes price from zillow for addresses with with apartment numbers\n",
    "def scraper_w_apt(address, apt):\n",
    "    try:\n",
    "        address2 = str(address)\n",
    "        apt2 = str(apt)\n",
    "        address2 = address2.replace(' ', '-').upper()\n",
    "        apt2 = apt2.replace(' ', '-').upper()\n",
    "        my_url = 'https://www.zillow.com/homes/'+address2+'-APT-'+apt+'-nyc_rb/'\n",
    "\n",
    "        opener = urllib2.build_opener()\n",
    "        opener.addheaders = [('User-Agent', 'Mozilla/5.0')]\n",
    "        response = opener.open(my_url)\n",
    "\n",
    "        soup = BeautifulSoup(response, 'html.parser')\n",
    "\n",
    "        temp = str(soup.find_all('div', {'class':'zestimate'}))\n",
    "        price = str(find_between(temp, \"$\", \"</div>\" ))\n",
    "        price = price.replace(',', '')\n",
    "\n",
    "        if price != '':\n",
    "            return price;\n",
    "        else:\n",
    "            temp = str(soup.find_all('div', {'class':'zestimate primary-quote'}))\n",
    "            price = str(find_between(temp, \"$\", \"</div>\" ))\n",
    "            price = price.replace(',', '')\n",
    "            return price\n",
    "    except:\n",
    "        return(int(0));"
   ]
  },
  {
   "cell_type": "markdown",
   "metadata": {},
   "source": [
    "# Run this code as a test"
   ]
  },
  {
   "cell_type": "code",
   "execution_count": null,
   "metadata": {},
   "outputs": [],
   "source": [
    "test_prices = []\n",
    "for i in range(0,2):\n",
    "    #print(i)\n",
    "    if pd.isnull((train.iloc[i]['apartment_number'])):\n",
    "        p = scraper_no_apt(train.iloc[i]['address'])\n",
    "        if p=='':\n",
    "            test_prices.append(int(0))\n",
    "        else:\n",
    "            test_prices.append(int(p))\n",
    "    else:\n",
    "        p=scraper_w_apt(train.iloc[i]['address'], train.iloc[i]['apartment_number'])\n",
    "        if p=='':\n",
    "            test_prices.append(int(0))\n",
    "        else:\n",
    "            test_prices.append(int(p))\n",
    "    time.sleep(2*random())\n",
    "print test_prices "
   ]
  },
  {
   "cell_type": "code",
   "execution_count": null,
   "metadata": {
    "collapsed": true
   },
   "outputs": [],
   "source": [
    "#If the above code does not print out [1472076, 2344426], something is wrong"
   ]
  },
  {
   "cell_type": "markdown",
   "metadata": {},
   "source": [
    "# If Above Code Works, run the following"
   ]
  },
  {
   "cell_type": "code",
   "execution_count": null,
   "metadata": {
    "collapsed": true
   },
   "outputs": [],
   "source": [
    "prices=[]\n",
    "for i in range(44728,67091):\n",
    "    #print(i)\n",
    "    if pd.isnull((train.iloc[i]['apartment_number'])):\n",
    "        p = scraper_no_apt(train.iloc[i]['address'])\n",
    "        if p=='':\n",
    "            prices.append(int(0))\n",
    "        else:\n",
    "            prices.append(int(p))\n",
    "    else:\n",
    "        p=scraper_w_apt(train.iloc[i]['address'], train.iloc[i]['apartment_number'])\n",
    "        if p=='':\n",
    "            prices.append(int(0))\n",
    "        else:\n",
    "            prices.append(int(p))\n",
    "    time.sleep(2*random())"
   ]
  },
  {
   "cell_type": "code",
   "execution_count": null,
   "metadata": {},
   "outputs": [],
   "source": [
    "prices_=pd.Series(prices)"
   ]
  },
  {
   "cell_type": "code",
   "execution_count": null,
   "metadata": {
    "collapsed": true
   },
   "outputs": [],
   "source": [
    "the_injury = pd.concat([pd.Series(train['address'])[44728:67091].reset_index(drop=True),prices_], axis=1)"
   ]
  },
  {
   "cell_type": "code",
   "execution_count": null,
   "metadata": {
    "collapsed": true
   },
   "outputs": [],
   "source": [
    "the_injury = the_injury.rename(columns={0:'Price',\n",
    "                               'address':'Address'})"
   ]
  },
  {
   "cell_type": "code",
   "execution_count": null,
   "metadata": {
    "collapsed": true
   },
   "outputs": [],
   "source": [
    "the_injury.to_csv('the_injury.csv')"
   ]
  }
 ],
 "metadata": {
  "kernelspec": {
   "display_name": "Python 2",
   "language": "python",
   "name": "python2"
  },
  "language_info": {
   "codemirror_mode": {
    "name": "ipython",
    "version": 2
   },
   "file_extension": ".py",
   "mimetype": "text/x-python",
   "name": "python",
   "nbconvert_exporter": "python",
   "pygments_lexer": "ipython2",
   "version": "2.7.14"
  }
 },
 "nbformat": 4,
 "nbformat_minor": 2
}
