{
 "cells": [
  {
   "cell_type": "markdown",
   "metadata": {},
   "source": [
    "# Import Libraries"
   ]
  },
  {
   "cell_type": "code",
   "execution_count": 1,
   "metadata": {
    "collapsed": true
   },
   "outputs": [],
   "source": [
    "import pandas as pd\n",
    "import urllib2\n",
    "from bs4 import BeautifulSoup\n",
    "import time\n",
    "import warnings\n",
    "warnings.filterwarnings(\"ignore\")\n",
    "from random import *"
   ]
  },
  {
   "cell_type": "markdown",
   "metadata": {},
   "source": [
    "# Read in and Filter Data "
   ]
  },
  {
   "cell_type": "code",
   "execution_count": 2,
   "metadata": {
    "collapsed": true
   },
   "outputs": [],
   "source": [
    "train = pd.read_csv('Brooklyn_House_Train.csv')\n",
    "mask_one = (train['sale_price'] < 100000)\n",
    "train = train[mask_one]\n",
    "\n",
    "mask_two=(train['building_class_category']=='01 ONE FAMILY HOMES') | (train['building_class_category']=='02 TWO FAMILY HOMES') | (train['building_class_category']=='03 THREE FAMILY HOMES')\n",
    "train = train[mask_two]"
   ]
  },
  {
   "cell_type": "markdown",
   "metadata": {},
   "source": [
    "# Peak at data to make sure it looks good"
   ]
  },
  {
   "cell_type": "code",
   "execution_count": 3,
   "metadata": {},
   "outputs": [
    {
     "data": {
      "text/html": [
       "<div>\n",
       "<style>\n",
       "    .dataframe thead tr:only-child th {\n",
       "        text-align: right;\n",
       "    }\n",
       "\n",
       "    .dataframe thead th {\n",
       "        text-align: left;\n",
       "    }\n",
       "\n",
       "    .dataframe tbody tr th {\n",
       "        vertical-align: top;\n",
       "    }\n",
       "</style>\n",
       "<table border=\"1\" class=\"dataframe\">\n",
       "  <thead>\n",
       "    <tr style=\"text-align: right;\">\n",
       "      <th></th>\n",
       "      <th>Unnamed: 0</th>\n",
       "      <th>borough</th>\n",
       "      <th>neighborhood</th>\n",
       "      <th>building_class_category</th>\n",
       "      <th>tax_class</th>\n",
       "      <th>block</th>\n",
       "      <th>lot</th>\n",
       "      <th>easement</th>\n",
       "      <th>building_class</th>\n",
       "      <th>address</th>\n",
       "      <th>...</th>\n",
       "      <th>EDesigNum</th>\n",
       "      <th>APPBBL</th>\n",
       "      <th>APPDate</th>\n",
       "      <th>PLUTOMapID</th>\n",
       "      <th>FIRM07_FLA</th>\n",
       "      <th>PFIRM15_FL</th>\n",
       "      <th>Version</th>\n",
       "      <th>MAPPLUTO_F</th>\n",
       "      <th>SHAPE_Leng</th>\n",
       "      <th>SHAPE_Area</th>\n",
       "    </tr>\n",
       "  </thead>\n",
       "  <tbody>\n",
       "    <tr>\n",
       "      <th>3</th>\n",
       "      <td>184874</td>\n",
       "      <td>3</td>\n",
       "      <td>BOROUGH PARK</td>\n",
       "      <td>02 TWO FAMILY HOMES</td>\n",
       "      <td>1</td>\n",
       "      <td>5736</td>\n",
       "      <td>16</td>\n",
       "      <td>NaN</td>\n",
       "      <td>B1</td>\n",
       "      <td>924 63RD</td>\n",
       "      <td>...</td>\n",
       "      <td>NaN</td>\n",
       "      <td>0.0</td>\n",
       "      <td>NaN</td>\n",
       "      <td>1.0</td>\n",
       "      <td>NaN</td>\n",
       "      <td>NaN</td>\n",
       "      <td>17V1.1</td>\n",
       "      <td>0.0</td>\n",
       "      <td>256.640505</td>\n",
       "      <td>2667.781551</td>\n",
       "    </tr>\n",
       "    <tr>\n",
       "      <th>5</th>\n",
       "      <td>272403</td>\n",
       "      <td>3</td>\n",
       "      <td>CROWN HEIGHTS</td>\n",
       "      <td>03 THREE FAMILY HOMES</td>\n",
       "      <td>1</td>\n",
       "      <td>1148</td>\n",
       "      <td>11</td>\n",
       "      <td>NaN</td>\n",
       "      <td>C0</td>\n",
       "      <td>782 BERGEN STREET</td>\n",
       "      <td>...</td>\n",
       "      <td>NaN</td>\n",
       "      <td>0.0</td>\n",
       "      <td>NaN</td>\n",
       "      <td>1.0</td>\n",
       "      <td>NaN</td>\n",
       "      <td>NaN</td>\n",
       "      <td>17V1.1</td>\n",
       "      <td>0.0</td>\n",
       "      <td>209.947537</td>\n",
       "      <td>1689.715147</td>\n",
       "    </tr>\n",
       "    <tr>\n",
       "      <th>6</th>\n",
       "      <td>341324</td>\n",
       "      <td>3</td>\n",
       "      <td>EAST NEW YORK</td>\n",
       "      <td>01 ONE FAMILY HOMES</td>\n",
       "      <td>1</td>\n",
       "      <td>4502</td>\n",
       "      <td>22</td>\n",
       "      <td>NaN</td>\n",
       "      <td>A1</td>\n",
       "      <td>582 MILFORD STREET</td>\n",
       "      <td>...</td>\n",
       "      <td>NaN</td>\n",
       "      <td>0.0</td>\n",
       "      <td>NaN</td>\n",
       "      <td>1.0</td>\n",
       "      <td>NaN</td>\n",
       "      <td>NaN</td>\n",
       "      <td>17V1.1</td>\n",
       "      <td>0.0</td>\n",
       "      <td>261.693791</td>\n",
       "      <td>2646.177776</td>\n",
       "    </tr>\n",
       "    <tr>\n",
       "      <th>7</th>\n",
       "      <td>352630</td>\n",
       "      <td>3</td>\n",
       "      <td>OCEAN PARKWAY-SOUTH</td>\n",
       "      <td>01 ONE FAMILY HOMES</td>\n",
       "      <td>1</td>\n",
       "      <td>7108</td>\n",
       "      <td>159</td>\n",
       "      <td>NaN</td>\n",
       "      <td>A1</td>\n",
       "      <td>1956 OCEAN PARKWAY</td>\n",
       "      <td>...</td>\n",
       "      <td>NaN</td>\n",
       "      <td>0.0</td>\n",
       "      <td>NaN</td>\n",
       "      <td>1.0</td>\n",
       "      <td>NaN</td>\n",
       "      <td>NaN</td>\n",
       "      <td>17V1.1</td>\n",
       "      <td>0.0</td>\n",
       "      <td>396.863102</td>\n",
       "      <td>7252.060556</td>\n",
       "    </tr>\n",
       "    <tr>\n",
       "      <th>11</th>\n",
       "      <td>256949</td>\n",
       "      <td>3</td>\n",
       "      <td>MIDWOOD</td>\n",
       "      <td>02 TWO FAMILY HOMES</td>\n",
       "      <td>1</td>\n",
       "      <td>6757</td>\n",
       "      <td>90</td>\n",
       "      <td>NaN</td>\n",
       "      <td>B2</td>\n",
       "      <td>1439 EAST 19TH   STREET</td>\n",
       "      <td>...</td>\n",
       "      <td>NaN</td>\n",
       "      <td>0.0</td>\n",
       "      <td>NaN</td>\n",
       "      <td>1.0</td>\n",
       "      <td>NaN</td>\n",
       "      <td>NaN</td>\n",
       "      <td>17V1.1</td>\n",
       "      <td>0.0</td>\n",
       "      <td>312.369491</td>\n",
       "      <td>3693.837663</td>\n",
       "    </tr>\n",
       "  </tbody>\n",
       "</table>\n",
       "<p>5 rows × 111 columns</p>\n",
       "</div>"
      ],
      "text/plain": [
       "    Unnamed: 0  borough         neighborhood building_class_category  \\\n",
       "3       184874        3         BOROUGH PARK     02 TWO FAMILY HOMES   \n",
       "5       272403        3        CROWN HEIGHTS   03 THREE FAMILY HOMES   \n",
       "6       341324        3        EAST NEW YORK     01 ONE FAMILY HOMES   \n",
       "7       352630        3  OCEAN PARKWAY-SOUTH     01 ONE FAMILY HOMES   \n",
       "11      256949        3              MIDWOOD     02 TWO FAMILY HOMES   \n",
       "\n",
       "   tax_class  block  lot  easement building_class                  address  \\\n",
       "3          1   5736   16       NaN             B1                 924 63RD   \n",
       "5          1   1148   11       NaN             C0        782 BERGEN STREET   \n",
       "6          1   4502   22       NaN             A1       582 MILFORD STREET   \n",
       "7          1   7108  159       NaN             A1       1956 OCEAN PARKWAY   \n",
       "11         1   6757   90       NaN             B2  1439 EAST 19TH   STREET   \n",
       "\n",
       "       ...      EDesigNum  APPBBL  APPDate  PLUTOMapID  FIRM07_FLA  \\\n",
       "3      ...            NaN     0.0      NaN         1.0         NaN   \n",
       "5      ...            NaN     0.0      NaN         1.0         NaN   \n",
       "6      ...            NaN     0.0      NaN         1.0         NaN   \n",
       "7      ...            NaN     0.0      NaN         1.0         NaN   \n",
       "11     ...            NaN     0.0      NaN         1.0         NaN   \n",
       "\n",
       "    PFIRM15_FL  Version  MAPPLUTO_F  SHAPE_Leng   SHAPE_Area  \n",
       "3          NaN   17V1.1         0.0  256.640505  2667.781551  \n",
       "5          NaN   17V1.1         0.0  209.947537  1689.715147  \n",
       "6          NaN   17V1.1         0.0  261.693791  2646.177776  \n",
       "7          NaN   17V1.1         0.0  396.863102  7252.060556  \n",
       "11         NaN   17V1.1         0.0  312.369491  3693.837663  \n",
       "\n",
       "[5 rows x 111 columns]"
      ]
     },
     "execution_count": 3,
     "metadata": {},
     "output_type": "execute_result"
    }
   ],
   "source": [
    "train.head()"
   ]
  },
  {
   "cell_type": "code",
   "execution_count": 4,
   "metadata": {},
   "outputs": [
    {
     "data": {
      "text/plain": [
       "(67092, 111)"
      ]
     },
     "execution_count": 4,
     "metadata": {},
     "output_type": "execute_result"
    }
   ],
   "source": [
    "train.shape"
   ]
  },
  {
   "cell_type": "markdown",
   "metadata": {},
   "source": [
    "# Useful functions"
   ]
  },
  {
   "cell_type": "code",
   "execution_count": 5,
   "metadata": {
    "collapsed": true
   },
   "outputs": [],
   "source": [
    "def find_between( s, first, last ):\n",
    "    try:\n",
    "        start = s.index( first ) + len( first )\n",
    "        end = s.index( last, start )\n",
    "        return s[start:end]\n",
    "    except ValueError:\n",
    "        return \"\"\n",
    "\n",
    "\n",
    "#Scrapes price from zillow for addresses with no apartment numbers\n",
    "def scraper_no_apt(address):\n",
    "    try:\n",
    "        address2 = str(address)\n",
    "        address2 = address2.replace(' ', '-').upper()\n",
    "        my_url = 'https://www.zillow.com/homes/'+address2+'-nyc_rb/'\n",
    "\n",
    "        opener = urllib2.build_opener()\n",
    "        opener.addheaders = [('User-Agent', 'Mozilla/5.0')]\n",
    "        response = opener.open(my_url)\n",
    "\n",
    "        soup = BeautifulSoup(response, 'html.parser')\n",
    "\n",
    "        temp = str(soup.find_all('div', {'class':'zestimate primary-quote'}))\n",
    "        price = str(find_between(temp, \"$\", \"</div>\" ))\n",
    "        price = price.replace(',', '')\n",
    "\n",
    "        return price;\n",
    "    except:\n",
    "        return(int(0));\n",
    "\n",
    "#Scrapes price from zillow for addresses with with apartment numbers\n",
    "def scraper_w_apt(address, apt):\n",
    "    try:\n",
    "        address2 = str(address)\n",
    "        apt2 = str(apt)\n",
    "        address2 = address2.replace(' ', '-').upper()\n",
    "        apt2 = apt2.replace(' ', '-').upper()\n",
    "        my_url = 'https://www.zillow.com/homes/'+address2+'-APT-'+apt+'-nyc_rb/'\n",
    "\n",
    "        opener = urllib2.build_opener()\n",
    "        opener.addheaders = [('User-Agent', 'Mozilla/5.0')]\n",
    "        response = opener.open(my_url)\n",
    "\n",
    "        soup = BeautifulSoup(response, 'html.parser')\n",
    "\n",
    "        temp = str(soup.find_all('div', {'class':'zestimate'}))\n",
    "        price = str(find_between(temp, \"$\", \"</div>\" ))\n",
    "        price = price.replace(',', '')\n",
    "\n",
    "        if price != '':\n",
    "            return price;\n",
    "        else:\n",
    "            temp = str(soup.find_all('div', {'class':'zestimate primary-quote'}))\n",
    "            price = str(find_between(temp, \"$\", \"</div>\" ))\n",
    "            price = price.replace(',', '')\n",
    "            return price\n",
    "    except:\n",
    "        return(int(0));"
   ]
  },
  {
   "cell_type": "markdown",
   "metadata": {},
   "source": [
    "# Run this code as a test"
   ]
  },
  {
   "cell_type": "code",
   "execution_count": 6,
   "metadata": {},
   "outputs": [
    {
     "name": "stdout",
     "output_type": "stream",
     "text": [
      "[1472076, 2344426]\n"
     ]
    }
   ],
   "source": [
    "test_prices = []\n",
    "for i in range(0,2):\n",
    "    #print(i)\n",
    "    if pd.isnull((train.iloc[i]['apartment_number'])):\n",
    "        p = scraper_no_apt(train.iloc[i]['address'])\n",
    "        if p=='':\n",
    "            test_prices.append(int(0))\n",
    "        else:\n",
    "            test_prices.append(int(p))\n",
    "    else:\n",
    "        p=scraper_w_apt(train.iloc[i]['address'], train.iloc[i]['apartment_number'])\n",
    "        if p=='':\n",
    "            test_prices.append(int(0))\n",
    "        else:\n",
    "            test_prices.append(int(p))\n",
    "    time.sleep(2*random())\n",
    "print test_prices "
   ]
  },
  {
   "cell_type": "code",
   "execution_count": 7,
   "metadata": {
    "collapsed": true
   },
   "outputs": [],
   "source": [
    "#If the above code does not print out [1472076, 2344426], something is wrong"
   ]
  },
  {
   "cell_type": "markdown",
   "metadata": {},
   "source": [
    "# If Above Code Works, run the following"
   ]
  },
  {
   "cell_type": "code",
   "execution_count": null,
   "metadata": {
    "collapsed": true
   },
   "outputs": [],
   "source": [
    "prices=[]\n",
    "for i in range(22634,44728):\n",
    "    #print(i)\n",
    "    if pd.isnull((train.iloc[i]['apartment_number'])):\n",
    "        p = scraper_no_apt(train.iloc[i]['address'])\n",
    "        if p=='':\n",
    "            prices.append(int(0))\n",
    "        else:\n",
    "            prices.append(int(p))\n",
    "    else:\n",
    "        p=scraper_w_apt(train.iloc[i]['address'], train.iloc[i]['apartment_number'])\n",
    "        if p=='':\n",
    "            prices.append(int(0))\n",
    "        else:\n",
    "            prices.append(int(p))\n",
    "    time.sleep(2*random())"
   ]
  },
  {
   "cell_type": "code",
   "execution_count": null,
   "metadata": {},
   "outputs": [],
   "source": [
    "prices_=pd.Series(prices)"
   ]
  },
  {
   "cell_type": "code",
   "execution_count": null,
   "metadata": {
    "collapsed": true
   },
   "outputs": [],
   "source": [
    "casino_night = pd.concat([pd.Series(train['address'])[22634:44728].reset_index(drop=True),prices_], axis=1)"
   ]
  },
  {
   "cell_type": "code",
   "execution_count": null,
   "metadata": {
    "collapsed": true
   },
   "outputs": [],
   "source": [
    "casino_night = casino_night.rename(columns={0:'Price',\n",
    "                               'address':'Address'})"
   ]
  },
  {
   "cell_type": "code",
   "execution_count": null,
   "metadata": {
    "collapsed": true
   },
   "outputs": [],
   "source": [
    "casino_night.to_csv('casino_night.csv')"
   ]
  }
 ],
 "metadata": {
  "kernelspec": {
   "display_name": "Python 2",
   "language": "python",
   "name": "python2"
  },
  "language_info": {
   "codemirror_mode": {
    "name": "ipython",
    "version": 2
   },
   "file_extension": ".py",
   "mimetype": "text/x-python",
   "name": "python",
   "nbconvert_exporter": "python",
   "pygments_lexer": "ipython2",
   "version": "2.7.14"
  }
 },
 "nbformat": 4,
 "nbformat_minor": 2
}
